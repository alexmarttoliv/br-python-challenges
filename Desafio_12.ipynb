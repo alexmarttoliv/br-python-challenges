{
 "cells": [
  {
   "cell_type": "markdown",
   "metadata": {
    "colab_type": "text",
    "id": "view-in-github"
   },
   "source": [
    "<a href=\"https://colab.research.google.com/github/WittmannF/br-data-science/blob/master/python/challenges/Desafio_12.ipynb\" target=\"_parent\"><img src=\"https://colab.research.google.com/assets/colab-badge.svg\" alt=\"Open In Colab\"/></a>"
   ]
  },
  {
   "cell_type": "markdown",
   "metadata": {
    "colab_type": "text",
    "id": "AYHY2YXQf6J2"
   },
   "source": [
    "### Desafio 12\n",
    "\n",
    "Escreva uma função em Python para verificar a validade de uma senha.\n",
    "\n",
    "Validação:\n",
    "\n",
    "* Pelo menos 1 letra entre [a-z] e 1 letra entre [A-Z].\n",
    "* Pelo menos 1 número entre [0-9].\n",
    "* Pelo menos 1 caractere de [$ # @].\n",
    "* Comprimento mínimo de 6 caracteres.\n",
    "* Comprimento máximo de 16 caracteres.\n",
    "\n",
    "Entradas: \"12345678\", \"J3sus0\", \"#Te5t300\", \"J*90j12374\", \"Michheeul\", \"Monk3y6\"\n",
    "\n",
    "A saída deve ser a senha e um texto indicando se a senha é válida ou inválida:\n",
    "\n",
    "```\n",
    "\"1234\" - Senha inválida\n",
    "\"Qw#1234\" - Senha válida\n",
    "```"
   ]
  },
  {
   "cell_type": "code",
   "execution_count": 1,
   "metadata": {
    "colab": {},
    "colab_type": "code",
    "id": "UGgtGYGGf6J3"
   },
   "outputs": [],
   "source": [
    "# Seu código"
   ]
  },
  {
   "cell_type": "code",
   "execution_count": 2,
   "metadata": {},
   "outputs": [],
   "source": [
    "from string import punctuation"
   ]
  },
  {
   "cell_type": "code",
   "execution_count": 3,
   "metadata": {},
   "outputs": [],
   "source": [
    "list_special = list(punctuation)"
   ]
  },
  {
   "cell_type": "code",
   "execution_count": 4,
   "metadata": {
    "colab": {},
    "colab_type": "code",
    "id": "n8F01NzD9uHm"
   },
   "outputs": [],
   "source": [
    "def conferir_senha(senha):\n",
    "    \n",
    "    len_6 = False\n",
    "    if len(senha) >= 6:\n",
    "        len_6 = True\n",
    "        \n",
    "    len_16 = False\n",
    "    if len(senha) <= 16:\n",
    "        len_16 = True\n",
    "    \n",
    "    check_number = False\n",
    "    lower_case = False\n",
    "    upper_case = False\n",
    "    special_char = False\n",
    "    for i in senha:\n",
    "        if i.isdigit():\n",
    "            check_number = True\n",
    "        if i.islower():\n",
    "            lower_case = True\n",
    "        if i.isupper():\n",
    "            upper_case = True\n",
    "        if i in list_special:\n",
    "            special_char = True\n",
    "\n",
    "    if not (check_number & len_16 & len_6 & lower_case & upper_case & special_char):\n",
    "        status_senha = 'Senha inválida'\n",
    "    else:\n",
    "        status_senha = 'Senha válida'\n",
    "    \n",
    "    print('Pelo menos 1 caractere especial:', special_char)\n",
    "    print('Pelo menos 1 letra entre [a-z]:', lower_case)\n",
    "    print('Pelo menos 1 letra entre [A-Z]:', upper_case)\n",
    "    print('Pelo menos 1 número entre [0-9]:', check_number)\n",
    "    print('Comprimento mínimo de 6 caracteres:', len_6)\n",
    "    print('Comprimento máximo de 16 caracteres:', len_16)\n",
    "    print('')\n",
    "    print(status_senha)"
   ]
  },
  {
   "cell_type": "code",
   "execution_count": 5,
   "metadata": {},
   "outputs": [
    {
     "name": "stdout",
     "output_type": "stream",
     "text": [
      "Pelo menos 1 caractere especial: True\n",
      "Pelo menos 1 letra entre [a-z]: True\n",
      "Pelo menos 1 letra entre [A-Z]: True\n",
      "Pelo menos 1 número entre [0-9]: True\n",
      "Comprimento mínimo de 6 caracteres: True\n",
      "Comprimento máximo de 16 caracteres: True\n",
      "\n",
      "Senha válida\n"
     ]
    }
   ],
   "source": [
    "conferir_senha('j0k+JUKfef3')"
   ]
  },
  {
   "cell_type": "code",
   "execution_count": null,
   "metadata": {},
   "outputs": [],
   "source": []
  }
 ],
 "metadata": {
  "anaconda-cloud": {},
  "colab": {
   "include_colab_link": true,
   "name": "Desafio 12.ipynb",
   "provenance": []
  },
  "kernelspec": {
   "display_name": "Python 3",
   "language": "python",
   "name": "python3"
  },
  "language_info": {
   "codemirror_mode": {
    "name": "ipython",
    "version": 3
   },
   "file_extension": ".py",
   "mimetype": "text/x-python",
   "name": "python",
   "nbconvert_exporter": "python",
   "pygments_lexer": "ipython3",
   "version": "3.8.3"
  }
 },
 "nbformat": 4,
 "nbformat_minor": 4
}
