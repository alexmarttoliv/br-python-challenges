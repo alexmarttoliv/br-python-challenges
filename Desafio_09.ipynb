{
 "cells": [
  {
   "cell_type": "markdown",
   "metadata": {
    "colab_type": "text",
    "id": "view-in-github"
   },
   "source": [
    "<a href=\"https://colab.research.google.com/github/WittmannF/br-data-science/blob/master/python/challenges/Desafio_9.ipynb\" target=\"_parent\"><img src=\"https://colab.research.google.com/assets/colab-badge.svg\" alt=\"Open In Colab\"/></a>"
   ]
  },
  {
   "cell_type": "markdown",
   "metadata": {
    "colab_type": "text",
    "id": "HpvTpUBGf6Jr"
   },
   "source": [
    "### Desafio 9\n",
    "\n",
    "Escreva uma função que retorne a soma dos múltiplos de 3 e 5 entre 0 e um número limite (parâmetro). Por exemplo, se o limite for 20, ele retornará a soma de 3, 5, 6, 9, 10, 12, 15, 18, 20."
   ]
  },
  {
   "cell_type": "code",
   "execution_count": 1,
   "metadata": {
    "colab": {},
    "colab_type": "code",
    "id": "195C6bw-f6Js"
   },
   "outputs": [],
   "source": [
    "# Seu código"
   ]
  },
  {
   "cell_type": "markdown",
   "metadata": {},
   "source": [
    "#### Método 1"
   ]
  },
  {
   "cell_type": "code",
   "execution_count": 2,
   "metadata": {},
   "outputs": [],
   "source": [
    "def soma_multiplos_3_5(parametro_limite):\n",
    " \n",
    "    lista_multiplos_3 = [0]\n",
    "    lista_multiplos_5 = [0]\n",
    "    \n",
    "    multiplo_3 = 0\n",
    "    multiplo_5 = 0\n",
    "    \n",
    "    while multiplo_3 < parametro_limite:\n",
    "        multiplo_3 = multiplo_3 + 3\n",
    "        if multiplo_3 > parametro_limite:\n",
    "            break\n",
    "        lista_multiplos_3.append(multiplo_3)\n",
    "        \n",
    "            \n",
    "    while multiplo_5 < parametro_limite:\n",
    "        multiplo_5 = multiplo_5 + 5\n",
    "        if multiplo_5 > parametro_limite:\n",
    "            break\n",
    "        lista_multiplos_5.append(multiplo_5)\n",
    "    \n",
    "    soma_listas = sum(lista_multiplos_3) + sum(lista_multiplos_5)\n",
    "    \n",
    "    print('Múltiplos de 3:', lista_multiplos_3)\n",
    "    print('Múltiplos de 5:', lista_multiplos_5)\n",
    "    print(f'A soma dos múltiplos de 3 e 5, até o limite {parametro_limite}, é: {soma_listas}')"
   ]
  },
  {
   "cell_type": "code",
   "execution_count": 3,
   "metadata": {},
   "outputs": [
    {
     "name": "stdout",
     "output_type": "stream",
     "text": [
      "Múltiplos de 3: [0, 3, 6, 9, 12, 15, 18]\n",
      "Múltiplos de 5: [0, 5, 10, 15, 20]\n",
      "A soma dos múltiplos de 3 e 5, até o limite 20, é: 113\n"
     ]
    }
   ],
   "source": [
    "soma_multiplos_3_5(20)"
   ]
  },
  {
   "cell_type": "markdown",
   "metadata": {},
   "source": [
    "#### Método 2"
   ]
  },
  {
   "cell_type": "code",
   "execution_count": 4,
   "metadata": {},
   "outputs": [],
   "source": [
    "def multiplos_x_y(x, y, limite):\n",
    "    list_x = []\n",
    "    list_y = []\n",
    "    \n",
    "    for i in range(0, limite+1):\n",
    "        if i % x == 0:\n",
    "            list_x.append(i)\n",
    "        if i % y == 0:\n",
    "            list_y.append(i)\n",
    "            \n",
    "    soma_final = sum(list_x) + sum(list_y)\n",
    "    \n",
    "    print(f'Múltiplos de {x}: {list_x}')\n",
    "    print(f'Múltiplos de {y}: {list_y}')\n",
    "    print(f'A soma dos múltiplos de {x} e {y}, até o limite {limite}, é: {soma_final}')"
   ]
  },
  {
   "cell_type": "code",
   "execution_count": 5,
   "metadata": {},
   "outputs": [
    {
     "name": "stdout",
     "output_type": "stream",
     "text": [
      "Múltiplos de 3: [0, 3, 6, 9, 12, 15, 18]\n",
      "Múltiplos de 5: [0, 5, 10, 15, 20]\n",
      "A soma dos múltiplos de 3 e 5, até o limite 20, é: 113\n"
     ]
    }
   ],
   "source": [
    "multiplos_x_y(3, 5, 20)"
   ]
  },
  {
   "cell_type": "code",
   "execution_count": null,
   "metadata": {},
   "outputs": [],
   "source": []
  }
 ],
 "metadata": {
  "anaconda-cloud": {},
  "colab": {
   "include_colab_link": true,
   "name": "Desafio 9.ipynb",
   "provenance": []
  },
  "kernelspec": {
   "display_name": "Python 3",
   "language": "python",
   "name": "python3"
  },
  "language_info": {
   "codemirror_mode": {
    "name": "ipython",
    "version": 3
   },
   "file_extension": ".py",
   "mimetype": "text/x-python",
   "name": "python",
   "nbconvert_exporter": "python",
   "pygments_lexer": "ipython3",
   "version": "3.8.3"
  }
 },
 "nbformat": 4,
 "nbformat_minor": 4
}
